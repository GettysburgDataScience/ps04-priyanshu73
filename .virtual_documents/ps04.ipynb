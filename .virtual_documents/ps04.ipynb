








import numpy as np

def greaterThan(A, lower_lim):
    return np.where(A > lower_lim, A, 0)



A = np.array([1, 2, 3, 4, 5, 6, 7, 8, 9])
B = np.array([[-1, 1], [2, -2], [0, 3]])
C = np.array([[101.1, 100, 99.9], [99.8, 100.1, 98.9], [103.2, 99, 98]])

assert np.all(greaterThan(A, 5) == np.array([0, 0, 0, 0, 0, 6, 7, 8, 9]))
assert np.all(greaterThan(B, 0) == np.array([[0, 1], [2, 0], [0, 3]]))
assert np.all(greaterThan(C, 100) == np.array([[101.1, 0, 0], [0, 100.1, 0], [103.2, 0, 0]]))

print("You passed all the tests!")






def subtractMean(A):
    return A - np.mean(A)





assert np.isclose(subtractMean(A), np.array([-4., -3., -2., -1.,  0.,  1.,  2.,  3.,  4.])).all()
assert np.isclose(subtractMean(B), np.array([[-1.5,  0.5],[ 1.5, -2.5],[-0.5,  2.5]])).all()
assert np.isclose(subtractMean(C), np.array([[ 1.1,  0. , -0.1],[-0.2,  0.1, -1.1],[ 3.2, -1. , -2. ]])).all()

print("You passed all the tests!")






import numpy as np

def arrayEdges(A):
    
    if len(A.shape) != 2:
        print("Error")
        return -1

    
    h, w = A.shape

    
    edges = []


    edges.extend(A[0, :])

    
    edges.extend(A[1:h, w - 1])


    edges.extend(A[h - 1, w - 2::-1])

   
    edges.extend(A[h - 2:0:-1, 0])

  
    return np.array(edges, dtype=A.dtype)


'''Test your code'''

X = np.array([[1, 2, 3], [4, 5, 6], [7, 8, 9]])
Y = np.array([['you', 'got', 'this'],['!','correct','problem']])
Z = np.array(['but','this','wont', 'work'])

assert np.array(arrayEdges(X) == np.array([1, 2, 3, 6, 9, 8, 7, 4])).all()
assert np.array(arrayEdges(Y) == np.array(['you', 'got', 'this', 'problem', 'correct', '!'])).all()
assert arrayEdges(Z) == -1

print("You passed all the tests! (disregard that it says Error above...it's supposed to do that)")






import pandas as pd

pp_df = pd.read_csv('https://raw.githubusercontent.com/allisonhorst/palmerpenguins/main/inst/extdata/penguins.csv')


pp_df.head()








total_penguins = len(pp_df)
smallest_body_mass = pp_df['body_mass_g'].min()
largest_body_mass = pp_df['body_mass_g'].max()
species_counts = pp_df['species'].value_counts()

print("Total penguins recorded:", total_penguins)

print("Smallest body mass recorded:", smallest_body_mass)
print("Largest body mass recorded:", largest_body_mass)
print("Species counts:\n", species_counts)





import matplotlib.pyplot as plt

plt.figure(figsize=(10, 6))
bins = 10

for species in pp_df['species'].unique():
    species_data = pp_df[pp_df['species'] == species]['body_mass_g']
    plt.hist(species_data, bins=bins, alpha=0.7, label=species)


plt.title('Distribution of Penguin Body Mass by Species')
plt.xlabel('Body Mass (g)')
plt.ylabel('Frequency')
plt.legend(title='Species')
plt.show()







    
import numpy as np

def interleaveArrays(A, B):

    if A.shape[1] != B.shape[1]:
        print('Error: Shapes of arrays are not compatible.')
        return -1
    
   
    if A.dtype != B.dtype:
        print('Error: Types of arrays are not compatible.')
        return -2
    

    interleaved = []
    
   
    num_rows_A = A.shape[0]
    num_rows_B = B.shape[0]
    max_rows = max(num_rows_A, num_rows_B)

  
    for i in range(max_rows):
        if i < num_rows_A:
            interleaved.append(A[i])
        if i < num_rows_B:
            interleaved.append(B[i])
    
   
    return np.array(interleaved)

G = np.array([[1, 2, 3], [4, 5, 6]])
H = np.array([[10, 20, 30], [100, 200, 300], [1000, 2000, 3000]])

result = interleaveArrays(G, H)
print(result)




